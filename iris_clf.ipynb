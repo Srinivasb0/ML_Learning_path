{
  "nbformat": 4,
  "nbformat_minor": 0,
  "metadata": {
    "colab": {
      "name": "iris clf.ipynb",
      "provenance": [],
      "collapsed_sections": []
    },
    "kernelspec": {
      "name": "python3",
      "display_name": "Python 3"
    }
  },
  "cells": [
    {
      "cell_type": "code",
      "metadata": {
        "id": "ac4E1G_5bmG1",
        "colab_type": "code",
        "colab": {}
      },
      "source": [
        "from sklearn import datasets \n",
        "import numpy as np \n",
        "import random \n",
        "import matplotlib.pyplot as plt "
      ],
      "execution_count": 0,
      "outputs": []
    },
    {
      "cell_type": "code",
      "metadata": {
        "id": "5nwoH_5mbsMF",
        "colab_type": "code",
        "colab": {}
      },
      "source": [
        "iris = datasets.load_iris() \n",
        "predictors = iris.data[:, 0:2] \n",
        "outcomes = iris.target "
      ],
      "execution_count": 0,
      "outputs": []
    },
    {
      "cell_type": "markdown",
      "metadata": {
        "id": "DqA_A5B9ha7F",
        "colab_type": "text"
      },
      "source": [
        "### Visualizing"
      ]
    },
    {
      "cell_type": "code",
      "metadata": {
        "id": "r9gwFxXjb4E_",
        "colab_type": "code",
        "outputId": "a6f1d8e3-dd6d-4535-e400-dd7535c8774b",
        "colab": {
          "base_uri": "https://localhost:8080/",
          "height": 326
        }
      },
      "source": [
        "plt.plot(predictors[outcomes == 0][:, 0], predictors[outcomes == 0][:, 1], \"ro\") \n",
        "plt.plot(predictors[outcomes == 1][:, 0], predictors[outcomes == 1][:, 1], \"go\") \n",
        "plt.plot(predictors[outcomes == 2][:, 0], predictors[outcomes == 2][:, 1], \"bo\") \n",
        "\n"
      ],
      "execution_count": 0,
      "outputs": [
        {
          "output_type": "execute_result",
          "data": {
            "text/plain": [
              "[<matplotlib.lines.Line2D at 0x7f918718d128>]"
            ]
          },
          "metadata": {
            "tags": []
          },
          "execution_count": 5
        },
        {
          "output_type": "display_data",
          "data": {
            "image/png": "[encoded data removed]",
            "text/plain": [
              "<Figure size 432x288 with 1 Axes>"
            ]
          },
          "metadata": {
            "tags": []
          }
        }
      ]
    },
    {
      "cell_type": "markdown",
      "metadata": {
        "id": "kQf51uwphPmd",
        "colab_type": "text"
      },
      "source": [
        "### Model Training"
      ]
    },
    {
      "cell_type": "code",
      "metadata": {
        "id": "ewe-qXn0b-ff",
        "colab_type": "code",
        "outputId": "66f2a766-4d84-4ff1-e67c-e3a8f7bd469f",
        "colab": {
          "base_uri": "https://localhost:8080/",
          "height": 76
        }
      },
      "source": [
        "from sklearn.neighbors import KNeighborsClassifier #predictions from skikit \n",
        "knn = KNeighborsClassifier(n_neighbors = 5) \n",
        "knn.fit(predictors, outcomes) \n",
        "sk_predictions = knn.predict(predictors)\n",
        "\n",
        "predict = zip(sk_predictions, outcomes)\n",
        "\n",
        "\n",
        "\n",
        "# for pred_, true_ in predict:\n",
        "#   print(pred_, true_)"
      ],
      "execution_count": 0,
      "outputs": [
        {
          "output_type": "execute_result",
          "data": {
            "text/plain": [
              "0.8333333333333334"
            ]
          },
          "metadata": {
            "tags": []
          },
          "execution_count": 11
        }
      ]
    },
    {
      "cell_type": "markdown",
      "metadata": {
        "id": "lWzDest6gXY1",
        "colab_type": "text"
      },
      "source": [
        "#### Model Accuracy"
      ]
    },
    {
      "cell_type": "code",
      "metadata": {
        "id": "6nMiFArwcgQx",
        "colab_type": "code",
        "outputId": "014b038d-c813-4b8f-fd95-22585af4c814",
        "colab": {
          "base_uri": "https://localhost:8080/",
          "height": 56
        }
      },
      "source": [
        "knn.score(predictors, outcomes)"
      ],
      "execution_count": 0,
      "outputs": [
        {
          "output_type": "execute_result",
          "data": {
            "text/plain": [
              "0.8333333333333334"
            ]
          },
          "metadata": {
            "tags": []
          },
          "execution_count": 12
        }
      ]
    },
    {
      "cell_type": "code",
      "metadata": {
        "id": "yraQeub7gUEb",
        "colab_type": "code",
        "colab": {}
      },
      "source": [
        "# Assignment\n",
        "# Plot the Confusion Matrix and precision and Recall"
      ],
      "execution_count": 0,
      "outputs": []
    }
  ]
}