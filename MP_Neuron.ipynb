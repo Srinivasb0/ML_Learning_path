{
  "nbformat": 4,
  "nbformat_minor": 0,
  "metadata": {
    "colab": {
      "name": "MP_Neuron.ipynb",
      "provenance": [],
      "collapsed_sections": []
    },
    "kernelspec": {
      "name": "python3",
      "display_name": "Python 3"
    }
  },
  "cells": [
    {
      "cell_type": "code",
      "metadata": {
        "id": "szP57aN_9Un7",
        "colab_type": "code",
        "outputId": "47f3a5ad-a276-4cd5-92d5-71245529c040",
        "colab": {
          "base_uri": "https://localhost:8080/",
          "height": 142
        }
      },
      "source": [
        "# Creating a DataFrame\n",
        "import pandas as pd\n",
        "\n",
        "lbw_data = {'pil': [1, 0, 1], 'impact': [0, 1, 1], 'missing_stumps': [0, 1, 1], 'LBW': [0, 0, 1]}\n",
        "df = pd.DataFrame(lbw_data)\n",
        "df.head()"
      ],
      "execution_count": 0,
      "outputs": [
        {
          "output_type": "execute_result",
          "data": {
            "text/html": [
              "<div>\n",
              "<style scoped>\n",
              "    .dataframe tbody tr th:only-of-type {\n",
              "        vertical-align: middle;\n",
              "    }\n",
              "\n",
              "    .dataframe tbody tr th {\n",
              "        vertical-align: top;\n",
              "    }\n",
              "\n",
              "    .dataframe thead th {\n",
              "        text-align: right;\n",
              "    }\n",
              "</style>\n",
              "<table border=\"1\" class=\"dataframe\">\n",
              "  <thead>\n",
              "    <tr style=\"text-align: right;\">\n",
              "      <th></th>\n",
              "      <th>pil</th>\n",
              "      <th>impact</th>\n",
              "      <th>missing_stumps</th>\n",
              "      <th>LBW</th>\n",
              "    </tr>\n",
              "  </thead>\n",
              "  <tbody>\n",
              "    <tr>\n",
              "      <th>0</th>\n",
              "      <td>1</td>\n",
              "      <td>0</td>\n",
              "      <td>0</td>\n",
              "      <td>0</td>\n",
              "    </tr>\n",
              "    <tr>\n",
              "      <th>1</th>\n",
              "      <td>0</td>\n",
              "      <td>1</td>\n",
              "      <td>1</td>\n",
              "      <td>0</td>\n",
              "    </tr>\n",
              "    <tr>\n",
              "      <th>2</th>\n",
              "      <td>1</td>\n",
              "      <td>1</td>\n",
              "      <td>1</td>\n",
              "      <td>1</td>\n",
              "    </tr>\n",
              "  </tbody>\n",
              "</table>\n",
              "</div>"
            ],
            "text/plain": [
              "   pil  impact  missing_stumps  LBW\n",
              "0    1       0               0    0\n",
              "1    0       1               1    0\n",
              "2    1       1               1    1"
            ]
          },
          "metadata": {
            "tags": []
          },
          "execution_count": 1
        }
      ]
    },
    {
      "cell_type": "code",
      "metadata": {
        "id": "eDHzYqa999iB",
        "colab_type": "code",
        "colab": {}
      },
      "source": [
        "x = df.drop('LBW', 1)\n",
        "y = df['LBW']"
      ],
      "execution_count": 0,
      "outputs": []
    },
    {
      "cell_type": "code",
      "metadata": {
        "id": "9cJOaaYU-DOb",
        "colab_type": "code",
        "colab": {}
      },
      "source": [
        "# define a model\n",
        "from sklearn.metrics import accuracy_score\n",
        "\n",
        "class MPNeuron:\n",
        "    def __init__(self):\n",
        "        self.b = None\n",
        "        \n",
        "    def model(self, x):\n",
        "        if sum(x) >= self.b:\n",
        "            return 1\n",
        "        else:\n",
        "            return 0\n",
        "    \n",
        "    def predict(self, X):\n",
        "        Y = []\n",
        "        for index, x in X.iterrows():\n",
        "            l = self.model(x)\n",
        "            Y.append(l)\n",
        "        \n",
        "        return np.array(Y)\n",
        "        \n",
        "    def fit(self, X, Y):\n",
        "        accuracy = {}\n",
        "        for b in range(0,3):\n",
        "            self.b = b\n",
        "            y_pred = self.predict(X)\n",
        "            accuracy[b] = accuracy_score(y_pred, Y)\n",
        "        \n",
        "        best_b = max(accuracy, key = accuracy.get)\n",
        "        \n",
        "        self.b = best_b\n",
        "        \n",
        "        print(\"best value of b: \", best_b)\n",
        "        print(\"accuracy: \", accuracy[best_b])"
      ],
      "execution_count": 0,
      "outputs": []
    },
    {
      "cell_type": "code",
      "metadata": {
        "id": "Hc4SMp7ICKzz",
        "colab_type": "code",
        "outputId": "d344807e-b3cc-42fc-fcfb-4433d254d8da",
        "colab": {
          "base_uri": "https://localhost:8080/",
          "height": 53
        }
      },
      "source": [
        "# Train the Model\n",
        "import numpy as np\n",
        "MPN = MPNeuron()\n",
        "MPN_train = MPN.fit(x, y)\n"
      ],
      "execution_count": 0,
      "outputs": [
        {
          "output_type": "stream",
          "text": [
            "best value of b:  2\n",
            "accuracy:  0.6666666666666666\n"
          ],
          "name": "stdout"
        }
      ]
    },
    {
      "cell_type": "markdown",
      "metadata": {
        "id": "AP4cXdcDr0Au",
        "colab_type": "text"
      },
      "source": [
        "## Network Model"
      ]
    },
    {
      "cell_type": "code",
      "metadata": {
        "id": "8dYKe2lRry7i",
        "colab_type": "code",
        "colab": {}
      },
      "source": [
        "\n",
        "b = 2\n",
        "predicted_model = []\n",
        "def network_model(x):\n",
        "  for i in x:\n",
        "    if sum(i) >= b:\n",
        "      preducted_model.append(1)\n",
        "      return 1\n",
        "    else:\n",
        "      predicted_model.append(0)\n",
        "      return 0"
      ],
      "execution_count": 0,
      "outputs": []
    },
    {
      "cell_type": "code",
      "metadata": {
        "id": "CCE3oLrut3Ep",
        "colab_type": "code",
        "outputId": "0da59b1b-a8ef-4885-fb1e-c27a1976dc91",
        "colab": {
          "base_uri": "https://localhost:8080/",
          "height": 35
        }
      },
      "source": [
        "# model building with list comprehension\n",
        "network_model = [1 if sum(i) > b else 0 for b in range(0, 3) for i in x]\n",
        "network_model"
      ],
      "execution_count": 0,
      "outputs": [
        {
          "output_type": "execute_result",
          "data": {
            "text/plain": [
              "[1, 1, 1, 0, 1, 1, 0, 0, 1]"
            ]
          },
          "metadata": {
            "tags": []
          },
          "execution_count": 34
        }
      ]
    },
    {
      "cell_type": "code",
      "metadata": {
        "id": "uem3QO5UuJWa",
        "colab_type": "code",
        "colab": {}
      },
      "source": [
        ""
      ],
      "execution_count": 0,
      "outputs": []
    },
    {
      "cell_type": "code",
      "metadata": {
        "id": "6rv9V4QZCkrx",
        "colab_type": "code",
        "colab": {}
      },
      "source": [
        "# Implement the similar model for mobile data\n",
        "# find the best b with the row count"
      ],
      "execution_count": 0,
      "outputs": []
    }
  ]
}