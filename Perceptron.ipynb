{
  "nbformat": 4,
  "nbformat_minor": 0,
  "metadata": {
    "colab": {
      "name": "Perceptron.ipynb",
      "provenance": [],
      "collapsed_sections": []
    },
    "kernelspec": {
      "name": "python3",
      "display_name": "Python 3"
    }
  },
  "cells": [
    {
      "cell_type": "code",
      "metadata": {
        "id": "TFLIxPZdpYvz",
        "colab_type": "code",
        "outputId": "ee434e99-c96d-4aec-80a4-1037bf1b76be",
        "colab": {
          "base_uri": "https://localhost:8080/",
          "height": 278
        }
      },
      "source": [
        "#import packages\n",
        "import sklearn.datasets\n",
        "import numpy as np\n",
        "import pandas as pd\n",
        "import matplotlib.pyplot as plt\n",
        "from sklearn.model_selection import train_test_split\n",
        "from sklearn.metrics import accuracy_score\n",
        "\n",
        "#load the breast cancer data\n",
        "breast_cancer = sklearn.datasets.load_breast_cancer()\n",
        "\n",
        "#convert the data to pandas dataframe.\n",
        "data = pd.DataFrame(breast_cancer.data, columns = breast_cancer.feature_names)\n",
        "data[\"class\"] = breast_cancer.target\n",
        "data.head()\n",
        "data.describe()\n",
        "\n",
        "#plotting a graph to see class imbalance\n",
        "data['class'].value_counts().plot(kind = \"barh\")\n",
        "plt.xlabel(\"Count\")\n",
        "plt.ylabel(\"Classes\")\n",
        "plt.show()\n",
        "\n"
      ],
      "execution_count": 1,
      "outputs": [
        {
          "output_type": "display_data",
          "data": {
            "image/png": "[encoded data removed]",
            "text/plain": [
              "<Figure size 432x288 with 1 Axes>"
            ]
          },
          "metadata": {
            "tags": []
          }
        }
      ]
    },
    {
      "cell_type": "markdown",
      "metadata": {
        "id": "5q1jU_9Tpthb",
        "colab_type": "text"
      },
      "source": [
        "After fetching the X and Y variables, we will perform Min-Max scaling to bring all the features in the range 0 — 1. Before building the model, we will split the data so that we can train the model on training data and test the performance of the model on testing data. We will use sklearn’s train_test_split function to split the data in the ratio of 90:10 for training and testing respectively. Now that we are done with preprocessing steps, we can start building the model. We will build our model inside a class called perceptron."
      ]
    },
    {
      "cell_type": "code",
      "metadata": {
        "id": "qlagFx_IsWa7",
        "colab_type": "code",
        "colab": {}
      },
      "source": [
        "# Data Standardization\n",
        "from sklearn.preprocessing import MinMaxScaler\n",
        "#perform scaling on the data.\n",
        "X = data.drop(\"class\", axis = 1)\n",
        "Y = data[\"class\"]\n",
        "\n",
        "mnscaler = MinMaxScaler()\n",
        "X = mnscaler.fit_transform(X)\n",
        "\n",
        "\n",
        "#train test split.\n",
        "X_train, X_test, Y_train, Y_test = train_test_split(X,Y, test_size = 0.1, stratify = Y, random_state = 1)\n",
        "\n"
      ],
      "execution_count": 0,
      "outputs": []
    },
    {
      "cell_type": "code",
      "metadata": {
        "id": "CPX75c2JteCp",
        "colab_type": "code",
        "outputId": "7c71a7db-27dd-4bf1-9891-9d7681837da9",
        "colab": {
          "base_uri": "https://localhost:8080/",
          "height": 34
        }
      },
      "source": [
        "X_train.shape"
      ],
      "execution_count": 0,
      "outputs": [
        {
          "output_type": "execute_result",
          "data": {
            "text/plain": [
              "(512, 30)"
            ]
          },
          "metadata": {
            "tags": []
          },
          "execution_count": 36
        }
      ]
    },
    {
      "cell_type": "code",
      "metadata": {
        "id": "fiQcuoXetj9d",
        "colab_type": "code",
        "outputId": "433806ae-86a6-4d98-e615-d5164c486359",
        "colab": {
          "base_uri": "https://localhost:8080/",
          "height": 247
        }
      },
      "source": [
        "X_test.shape\n",
        "X_test"
      ],
      "execution_count": 0,
      "outputs": [
        {
          "output_type": "execute_result",
          "data": {
            "text/plain": [
              "array([[0.23280799, 0.16706121, 0.23716398, ..., 0.20762887, 0.22905579,\n",
              "        0.31850977],\n",
              "       [0.69899191, 0.3814677 , 0.71529265, ..., 0.63264605, 0.24995072,\n",
              "        0.21999213],\n",
              "       [0.24511335, 0.28136625, 0.23840785, ..., 0.19553265, 0.16577962,\n",
              "        0.14593992],\n",
              "       ...,\n",
              "       [0.07648256, 0.30064254, 0.07117684, ..., 0.        , 0.31086142,\n",
              "        0.17132363],\n",
              "       [0.57641157, 0.57118701, 0.5694838 , ..., 0.64329897, 0.33372758,\n",
              "        0.27653155],\n",
              "       [0.18074684, 0.        , 0.1726211 , ..., 0.15817869, 0.10348906,\n",
              "        0.14397219]])"
            ]
          },
          "metadata": {
            "tags": []
          },
          "execution_count": 37
        }
      ]
    },
    {
      "cell_type": "code",
      "metadata": {
        "id": "6IYxzdgGSNmC",
        "colab_type": "code",
        "colab": {}
      },
      "source": [
        "w = np.ones(X.shape[1])\n",
        "b = 0\n",
        "\n",
        "def model(x):\n",
        "    if np.dot(w, x) >= b:\n",
        "      return 1\n",
        "    else:\n",
        "      return 0"
      ],
      "execution_count": 0,
      "outputs": []
    },
    {
      "cell_type": "code",
      "metadata": {
        "id": "hzI5GDzcSpLY",
        "colab_type": "code",
        "colab": {}
      },
      "source": [
        "#predictor to predict on the data based on w\n",
        "def predict(X):\n",
        "  Y = []\n",
        "  for x in X:\n",
        "    result = model(x)\n",
        "    Y.append(result)\n",
        "  return np.array(Y)"
      ],
      "execution_count": 0,
      "outputs": []
    },
    {
      "cell_type": "code",
      "metadata": {
        "id": "LmN-2ZdPSr5v",
        "colab_type": "code",
        "colab": {}
      },
      "source": [
        "def fit_(X, Y, epochs = 1, lr = 1):\n",
        "    global w\n",
        "    global b\n",
        "    accuracy = {}\n",
        "    max_accuracy = 0\n",
        "    wt_matrix = []\n",
        "    #for all epochs\n",
        "    for i in range(epochs):\n",
        "      for x, y in zip(X, Y):\n",
        "        y_pred = model(x)\n",
        "        if y == 1 and y_pred == 0:\n",
        "          w = w + lr * x\n",
        "          b = b - lr * 1\n",
        "        elif y == 0 and y_pred == 1:\n",
        "          w = w - lr * x\n",
        "          b = b + lr * 1\n",
        "          \n",
        "      wt_matrix.append(w)    \n",
        "      accuracy[i] = accuracy_score(predict(X), Y)\n",
        "      return wt_matrix, accuracy[i]"
      ],
      "execution_count": 0,
      "outputs": []
    },
    {
      "cell_type": "code",
      "metadata": {
        "id": "H-eXr9W1TQEk",
        "colab_type": "code",
        "colab": {}
      },
      "source": [
        "training = fit_(X_train, Y_train)"
      ],
      "execution_count": 0,
      "outputs": []
    },
    {
      "cell_type": "code",
      "metadata": {
        "id": "OD4gpP6JUVlc",
        "colab_type": "code",
        "outputId": "86dfbfcf-133b-4bb1-ac86-a0f3710053a2",
        "colab": {
          "base_uri": "https://localhost:8080/",
          "height": 70
        }
      },
      "source": [
        "predict = predict(X_test)\n",
        "predict"
      ],
      "execution_count": 0,
      "outputs": [
        {
          "output_type": "execute_result",
          "data": {
            "text/plain": [
              "array([1, 0, 1, 1, 0, 1, 0, 0, 0, 1, 0, 1, 1, 0, 1, 1, 1, 0, 1, 1, 1, 0,\n",
              "       1, 1, 0, 1, 1, 0, 0, 1, 1, 0, 0, 1, 1, 1, 0, 0, 1, 1, 1, 1, 1, 1,\n",
              "       0, 1, 1, 1, 1, 1, 1, 1, 1, 0, 1, 0, 1])"
            ]
          },
          "metadata": {
            "tags": []
          },
          "execution_count": 42
        }
      ]
    },
    {
      "cell_type": "code",
      "metadata": {
        "id": "eI5t5lP5UrXb",
        "colab_type": "code",
        "colab": {}
      },
      "source": [
        "_, accuracy = training\n"
      ],
      "execution_count": 0,
      "outputs": []
    },
    {
      "cell_type": "code",
      "metadata": {
        "id": "TYBiCjo6Veo6",
        "colab_type": "code",
        "outputId": "f8e369a0-27a0-45fd-ee79-17a766589536",
        "colab": {
          "base_uri": "https://localhost:8080/",
          "height": 34
        }
      },
      "source": [
        "accuracy"
      ],
      "execution_count": 0,
      "outputs": [
        {
          "output_type": "execute_result",
          "data": {
            "text/plain": [
              "0.939453125"
            ]
          },
          "metadata": {
            "tags": []
          },
          "execution_count": 44
        }
      ]
    },
    {
      "cell_type": "code",
      "metadata": {
        "id": "cxAqqJN7Vn8l",
        "colab_type": "code",
        "colab": {}
      },
      "source": [
        "#epochs = 10000 and lr = 0.3\n",
        "# calculate the accuracy for 100 epochs with lr of 0.3\n",
        "\n",
        "\n"
      ],
      "execution_count": 0,
      "outputs": []
    },
    {
      "cell_type": "markdown",
      "metadata": {
        "id": "TUrwyw5fV7hO",
        "colab_type": "text"
      },
      "source": [
        "## Assignment\n",
        "\n",
        "Derive the entire model under the class and plot the graph between Epoch vs Loss"
      ]
    },
    {
      "cell_type": "code",
      "metadata": {
        "id": "GOrimYOnV9fO",
        "colab_type": "code",
        "colab": {}
      },
      "source": [
        ""
      ],
      "execution_count": 0,
      "outputs": []
    }
  ]
}